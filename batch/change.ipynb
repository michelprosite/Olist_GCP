{
 "cells": [
  {
   "cell_type": "code",
   "execution_count": 3,
   "metadata": {},
   "outputs": [],
   "source": [
    "# Importando as bibliotecas\n",
    "import opendatasets as od\n",
    "import os"
   ]
  },
  {
   "cell_type": "code",
   "execution_count": 2,
   "metadata": {},
   "outputs": [
    {
     "name": "stdout",
     "output_type": "stream",
     "text": [
      "Skipping, found downloaded files in \"/home/kalimss/Documentos/GIT/Olist_GCP/data/transient/brazilian-olist-ecommerce\" (use force=True to force download)\n"
     ]
    }
   ],
   "source": [
    "# Especifique o caminho da pasta de destino dentro de /data\n",
    "data_folder = '/home/kalimss/Documentos/GIT/Olist_GCP/data/transient'\n",
    "\n",
    "# Garanta que o diretório de destino exista, se não existir, ele será criado\n",
    "os.makedirs(data_folder, exist_ok=True)\n",
    "\n",
    "# URL do conjunto de dados\n",
    "dataset = 'https://www.kaggle.com/datasets/michelsouzasantana/brazilian-olist-ecommerce'\n",
    "\n",
    "# Faça o download do conjunto de dados na pasta de destino\n",
    "od.download(dataset, data_folder)"
   ]
  }
 ],
 "metadata": {
  "kernelspec": {
   "display_name": ".venv",
   "language": "python",
   "name": "python3"
  },
  "language_info": {
   "codemirror_mode": {
    "name": "ipython",
    "version": 3
   },
   "file_extension": ".py",
   "mimetype": "text/x-python",
   "name": "python",
   "nbconvert_exporter": "python",
   "pygments_lexer": "ipython3",
   "version": "3.11.5"
  }
 },
 "nbformat": 4,
 "nbformat_minor": 2
}
